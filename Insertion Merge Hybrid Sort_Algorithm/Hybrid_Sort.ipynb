{
  "nbformat": 4,
  "nbformat_minor": 0,
  "metadata": {
    "colab": {
      "provenance": []
    },
    "kernelspec": {
      "name": "python3",
      "display_name": "Python 3"
    },
    "language_info": {
      "name": "python"
    }
  },
  "cells": [
    {
      "cell_type": "code",
      "execution_count": null,
      "metadata": {
        "colab": {
          "base_uri": "https://localhost:8080/"
        },
        "id": "RWXatQeqJR4h",
        "outputId": "9185d0d4-d9bd-491c-aa8d-b84bc8f7d8d0"
      },
      "outputs": [
        {
          "output_type": "stream",
          "name": "stdout",
          "text": [
            "Original (partial): [0, 1, 2, 3, 4, 5, 6, 7, 8, 9, 10, 11, 12, 13, 14, 15, 16, 17, 18, 19] ...\n",
            "Sorted (partial): [0, 1, 2, 3, 4, 5, 6, 7, 8, 9, 10, 11, 12, 13, 14, 15, 16, 17, 18, 19] ...\n",
            "Execution Time: 0.001234 seconds\n"
          ]
        }
      ],
      "source": [
        "# Hybrid Sort using Insertion + Merge Sort\n",
        "# Project: Performance Analysis of Insertion-Merge Hybrid Sort for Real-Time Transaction Logs\n",
        "\n",
        "def insertion_sort(arr, left, right):\n",
        "    for i in range(left + 1, right + 1):\n",
        "        key = arr[i]\n",
        "        j = i - 1\n",
        "        while j >= left and arr[j] > key:\n",
        "            arr[j + 1] = arr[j]\n",
        "            j -= 1\n",
        "        arr[j + 1] = key\n",
        "\n",
        "def merge(arr, left, mid, right):\n",
        "    left_part = arr[left:mid + 1]\n",
        "    right_part = arr[mid + 1:right + 1]\n",
        "\n",
        "    i = 0\n",
        "    j = 0\n",
        "    k = left\n",
        "\n",
        "    while i < len(left_part) and j < len(right_part):\n",
        "        if left_part[i] <= right_part[j]:\n",
        "            arr[k] = left_part[i]\n",
        "            i += 1\n",
        "        else:\n",
        "            arr[k] = right_part[j]\n",
        "            j += 1\n",
        "        k += 1\n",
        "\n",
        "    while i < len(left_part):\n",
        "        arr[k] = left_part[i]\n",
        "        i += 1\n",
        "        k += 1\n",
        "\n",
        "    while j < len(right_part):\n",
        "        arr[k] = right_part[j]\n",
        "        j += 1\n",
        "        k += 1\n",
        "\n",
        "def hybrid_sort(arr, left, right, threshold=32):\n",
        "    if right - left + 1 <= threshold:\n",
        "        insertion_sort(arr, left, right)\n",
        "    else:\n",
        "        mid = (left + right) // 2\n",
        "        hybrid_sort(arr, left, mid, threshold)\n",
        "        hybrid_sort(arr, mid + 1, right, threshold)\n",
        "        merge(arr, left, mid, right)\n",
        "\n",
        "# Sample test run\n",
        "if __name__ == \"__main__\":\n",
        "    import random\n",
        "    import time\n",
        "\n",
        "    data = list(range(1000))\n",
        "    for _ in range(50):\n",
        "        data.insert(random.randint(0, len(data)), random.randint(900, 1100))\n",
        "\n",
        "    print(\"Original (partial):\", data[:20], \"...\")\n",
        "\n",
        "    start = time.time()\n",
        "    hybrid_sort(data, 0, len(data) - 1)\n",
        "    end = time.time()\n",
        "\n",
        "    print(\"Sorted (partial):\", data[:20], \"...\")\n",
        "    print(\"Execution Time: {:.6f} seconds\".format(end - start))\n"
      ]
    }
  ]
}